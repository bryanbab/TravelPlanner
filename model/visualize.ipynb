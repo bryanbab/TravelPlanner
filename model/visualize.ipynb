{
 "cells": [
  {
   "cell_type": "code",
   "id": "initial_id",
   "metadata": {
    "collapsed": true,
    "ExecuteTime": {
     "end_time": "2025-03-03T05:05:14.523440Z",
     "start_time": "2025-03-03T05:05:13.419993Z"
    }
   },
   "source": [
    "import osmium\n",
    "import pandas as pd\n",
    "\n",
    "class POIHandler(osmium.SimpleHandler):\n",
    "    def __init__(self):\n",
    "        super().__init__()\n",
    "        self.pois = []\n",
    "\n",
    "    def node(self, n):\n",
    "        if 'amenity' in n.tags:  # Change 'amenity' to relevant POI type\n",
    "            self.pois.append({\n",
    "                'id': n.id,\n",
    "                'name': n.tags.get('name', 'Unknown'),\n",
    "                'type': n.tags['amenity'],\n",
    "                'lat': n.location.lat,\n",
    "                'lon': n.location.lon\n",
    "            })\n",
    "\n",
    "# Load and process the .osm file\n",
    "handler = POIHandler()\n",
    "handler.apply_file(\"boston_downtown.osm\")\n",
    "\n",
    "# Convert to DataFrame for easy handling\n",
    "df = pd.DataFrame(handler.pois)\n",
    "print(df.head())  # Display extracted POIs\n"
   ],
   "outputs": [
    {
     "name": "stdout",
     "output_type": "stream",
     "text": [
      "          id                                        name              type  \\\n",
      "0   61429995                                     Unknown  parking_entrance   \n",
      "1  257493571              State Police Government Center            police   \n",
      "2  257494627            Boston Fire Department Engine 10      fire_station   \n",
      "3  257535635           New England School of Law Library           library   \n",
      "4  257535672  Massachusetts State Transportation Library           library   \n",
      "\n",
      "         lat        lon  \n",
      "0  42.354647 -71.068432  \n",
      "1  42.359384 -71.062325  \n",
      "2  42.355077 -71.052996  \n",
      "3  42.350801 -71.066532  \n",
      "4  42.351709 -71.067434  \n"
     ]
    }
   ],
   "execution_count": 14
  },
  {
   "metadata": {
    "ExecuteTime": {
     "end_time": "2025-03-03T05:05:20.443681Z",
     "start_time": "2025-03-03T05:05:20.389207Z"
    }
   },
   "cell_type": "code",
   "source": [
    "# Query POI based on 'type' detection of type can be done using logistic regression later in the course\n",
    "df[df['type'] == 'cafe'].head()"
   ],
   "id": "fe620c41586c1f5a",
   "outputs": [
    {
     "data": {
      "text/plain": [
       "             id          name  type        lat        lon\n",
       "57   1770588659  Thinking Cup  cafe  42.353689 -71.063888\n",
       "66   1979657115     Starbucks  cafe  42.356387 -71.069350\n",
       "83   2446048062         fooda  cafe  42.359207 -71.051311\n",
       "134  3214091551      360 Cafe  cafe  42.356229 -71.061974\n",
       "135  3214648820     Starbucks  cafe  42.353244 -71.057665"
      ],
      "text/html": [
       "<div>\n",
       "<style scoped>\n",
       "    .dataframe tbody tr th:only-of-type {\n",
       "        vertical-align: middle;\n",
       "    }\n",
       "\n",
       "    .dataframe tbody tr th {\n",
       "        vertical-align: top;\n",
       "    }\n",
       "\n",
       "    .dataframe thead th {\n",
       "        text-align: right;\n",
       "    }\n",
       "</style>\n",
       "<table border=\"1\" class=\"dataframe\">\n",
       "  <thead>\n",
       "    <tr style=\"text-align: right;\">\n",
       "      <th></th>\n",
       "      <th>id</th>\n",
       "      <th>name</th>\n",
       "      <th>type</th>\n",
       "      <th>lat</th>\n",
       "      <th>lon</th>\n",
       "    </tr>\n",
       "  </thead>\n",
       "  <tbody>\n",
       "    <tr>\n",
       "      <th>57</th>\n",
       "      <td>1770588659</td>\n",
       "      <td>Thinking Cup</td>\n",
       "      <td>cafe</td>\n",
       "      <td>42.353689</td>\n",
       "      <td>-71.063888</td>\n",
       "    </tr>\n",
       "    <tr>\n",
       "      <th>66</th>\n",
       "      <td>1979657115</td>\n",
       "      <td>Starbucks</td>\n",
       "      <td>cafe</td>\n",
       "      <td>42.356387</td>\n",
       "      <td>-71.069350</td>\n",
       "    </tr>\n",
       "    <tr>\n",
       "      <th>83</th>\n",
       "      <td>2446048062</td>\n",
       "      <td>fooda</td>\n",
       "      <td>cafe</td>\n",
       "      <td>42.359207</td>\n",
       "      <td>-71.051311</td>\n",
       "    </tr>\n",
       "    <tr>\n",
       "      <th>134</th>\n",
       "      <td>3214091551</td>\n",
       "      <td>360 Cafe</td>\n",
       "      <td>cafe</td>\n",
       "      <td>42.356229</td>\n",
       "      <td>-71.061974</td>\n",
       "    </tr>\n",
       "    <tr>\n",
       "      <th>135</th>\n",
       "      <td>3214648820</td>\n",
       "      <td>Starbucks</td>\n",
       "      <td>cafe</td>\n",
       "      <td>42.353244</td>\n",
       "      <td>-71.057665</td>\n",
       "    </tr>\n",
       "  </tbody>\n",
       "</table>\n",
       "</div>"
      ]
     },
     "execution_count": 15,
     "metadata": {},
     "output_type": "execute_result"
    }
   ],
   "execution_count": 15
  },
  {
   "metadata": {
    "ExecuteTime": {
     "end_time": "2025-03-03T05:09:20.487341Z",
     "start_time": "2025-03-03T05:09:20.478736Z"
    }
   },
   "cell_type": "code",
   "source": [
    "import random\n",
    "\n",
    "\n",
    "'''\n",
    "Try generating paths based on themes. I found this list of amenities categorized neatly which is close to our 'themes' feature.\n",
    "Check https://wiki.openstreetmap.org/wiki/Key:amenity#Values\n",
    "'''\n",
    "# Static themes for now\n",
    "themes = ['entertainment','food','education','financial']\n",
    "theme_amenities = {'entertainment':['arts_centre', 'cinema','casino','arts_centre','nightclub','stage','studio','theatre','museum','park','gambling'],\n",
    "         'food':['cafe','fast_food','food_court','ice_cream'],\n",
    "         'education':['college','school','surf_school','research_institute','university'],\n",
    "         'financial':['atm','bank','money_transfer']\n",
    "         }"
   ],
   "id": "f703fb37deb06644",
   "outputs": [],
   "execution_count": 24
  },
  {
   "metadata": {
    "ExecuteTime": {
     "end_time": "2025-03-03T05:10:30.995331Z",
     "start_time": "2025-03-03T05:10:30.962101Z"
    }
   },
   "cell_type": "code",
   "source": [
    "\n",
    "number_of_days = 1\n",
    "\n",
    "# trying to randomize number of POIs to visit in a day\n",
    "number_of_pois = random.randint(1,8) * number_of_days\n",
    "print(number_of_pois)\n",
    "\n",
    "#get random amenities to query if theme is not specified, i'm just assuming 'entertainment' for now\n",
    "amenities_to_query = theme_amenities['entertainment']\n",
    "\n",
    "# limit random samples to 'number of pois' generated earlier\n",
    "filtered_df = df[df[\"type\"].isin(amenities_to_query)].drop_duplicates().sample(n=min(number_of_pois, len(df)), random_state=42)\n",
    "filtered_df.head()\n",
    "\n",
    "'''\n",
    "    This is a preliminary way of generating random point of interests on a small map.\n",
    "    We'll need to look into isolating a 'city' into different zones and try and cover multiple zones with similar sampling.\n",
    "'''"
   ],
   "id": "961102a24211c810",
   "outputs": [
    {
     "name": "stdout",
     "output_type": "stream",
     "text": [
      "5\n"
     ]
    },
    {
     "data": {
      "text/plain": [
       "               id                                   name       type  \\\n",
       "33      367779441               Emerson Colonial Theatre    theatre   \n",
       "41     1325838639  AMC Loews Theatres - Boston Common 19     cinema   \n",
       "475    7618780581    Jackie Liebergott Black Box Theatre    theatre   \n",
       "1591  12046151514             Wild Rover Bar & Nightspot  nightclub   \n",
       "1157   9347596609                                  Bijou  nightclub   \n",
       "\n",
       "            lat        lon  \n",
       "33    42.352310 -71.065288  \n",
       "41    42.353227 -71.064088  \n",
       "475   42.353890 -71.063271  \n",
       "1591  42.359600 -71.053992  \n",
       "1157  42.351191 -71.064151  "
      ],
      "text/html": [
       "<div>\n",
       "<style scoped>\n",
       "    .dataframe tbody tr th:only-of-type {\n",
       "        vertical-align: middle;\n",
       "    }\n",
       "\n",
       "    .dataframe tbody tr th {\n",
       "        vertical-align: top;\n",
       "    }\n",
       "\n",
       "    .dataframe thead th {\n",
       "        text-align: right;\n",
       "    }\n",
       "</style>\n",
       "<table border=\"1\" class=\"dataframe\">\n",
       "  <thead>\n",
       "    <tr style=\"text-align: right;\">\n",
       "      <th></th>\n",
       "      <th>id</th>\n",
       "      <th>name</th>\n",
       "      <th>type</th>\n",
       "      <th>lat</th>\n",
       "      <th>lon</th>\n",
       "    </tr>\n",
       "  </thead>\n",
       "  <tbody>\n",
       "    <tr>\n",
       "      <th>33</th>\n",
       "      <td>367779441</td>\n",
       "      <td>Emerson Colonial Theatre</td>\n",
       "      <td>theatre</td>\n",
       "      <td>42.352310</td>\n",
       "      <td>-71.065288</td>\n",
       "    </tr>\n",
       "    <tr>\n",
       "      <th>41</th>\n",
       "      <td>1325838639</td>\n",
       "      <td>AMC Loews Theatres - Boston Common 19</td>\n",
       "      <td>cinema</td>\n",
       "      <td>42.353227</td>\n",
       "      <td>-71.064088</td>\n",
       "    </tr>\n",
       "    <tr>\n",
       "      <th>475</th>\n",
       "      <td>7618780581</td>\n",
       "      <td>Jackie Liebergott Black Box Theatre</td>\n",
       "      <td>theatre</td>\n",
       "      <td>42.353890</td>\n",
       "      <td>-71.063271</td>\n",
       "    </tr>\n",
       "    <tr>\n",
       "      <th>1591</th>\n",
       "      <td>12046151514</td>\n",
       "      <td>Wild Rover Bar &amp; Nightspot</td>\n",
       "      <td>nightclub</td>\n",
       "      <td>42.359600</td>\n",
       "      <td>-71.053992</td>\n",
       "    </tr>\n",
       "    <tr>\n",
       "      <th>1157</th>\n",
       "      <td>9347596609</td>\n",
       "      <td>Bijou</td>\n",
       "      <td>nightclub</td>\n",
       "      <td>42.351191</td>\n",
       "      <td>-71.064151</td>\n",
       "    </tr>\n",
       "  </tbody>\n",
       "</table>\n",
       "</div>"
      ]
     },
     "execution_count": 38,
     "metadata": {},
     "output_type": "execute_result"
    }
   ],
   "execution_count": 38
  },
  {
   "metadata": {},
   "cell_type": "code",
   "outputs": [],
   "execution_count": null,
   "source": [
    "def evaluate_node():\n",
    "    total_time, travel_time, spent_time = 0\n",
    "    time_left =  total_time - (travel_time + spent_time)\n",
    "\n",
    "    budget = 0\n",
    "    node_cost = 0\n",
    "    budget_left = budget - node_cost\n",
    "\n",
    "    enough_time_to_reach_destination = time_left\n",
    "\n",
    "    ratings = 0\n",
    "\n",
    "\n",
    "    return time_left + budget_left + ratings"
   ],
   "id": "c0e48372d17bd854"
  }
 ],
 "metadata": {
  "kernelspec": {
   "display_name": "Python 3",
   "language": "python",
   "name": "python3"
  },
  "language_info": {
   "codemirror_mode": {
    "name": "ipython",
    "version": 2
   },
   "file_extension": ".py",
   "mimetype": "text/x-python",
   "name": "python",
   "nbconvert_exporter": "python",
   "pygments_lexer": "ipython2",
   "version": "2.7.6"
  }
 },
 "nbformat": 4,
 "nbformat_minor": 5
}
